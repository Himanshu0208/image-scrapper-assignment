{
 "cells": [
  {
   "cell_type": "code",
   "execution_count": 31,
   "id": "836aeddd",
   "metadata": {},
   "outputs": [
    {
     "name": "stderr",
     "output_type": "stream",
     "text": [
      "C:\\Users\\LENOVO 1\\AppData\\Local\\Temp\\ipykernel_18960\\2300009832.py:8: DeprecationWarning: executable_path has been deprecated, please pass in a Service object\n",
      "  driver = webdriver.Chrome(executable_path='./chromedriver.exe')\n"
     ]
    }
   ],
   "source": [
    "from selenium import webdriver\n",
    "from selenium import webdriver\n",
    "from selenium.webdriver.common.by import By\n",
    "from selenium.webdriver.chrome.service import Service\n",
    "import time as t\n",
    "\n",
    "# create a Chrome driver object\n",
    "driver = webdriver.Chrome(executable_path='./chromedriver.exe')"
   ]
  },
  {
   "cell_type": "markdown",
   "id": "c9a3ef23",
   "metadata": {},
   "source": [
    "# __Ques 1__"
   ]
  },
  {
   "cell_type": "code",
   "execution_count": 34,
   "id": "9a91df89",
   "metadata": {},
   "outputs": [],
   "source": [
    "def get_top5_urls(url):\n",
    "    driver.get(url)\n",
    "    t.sleep(5)\n",
    "    driver.execute_script(\"window.scrollTo(0, 200)\")\n",
    "    url_elems = driver.find_elements(By.XPATH,\"//a[@id='video-title-link']\")    \n",
    "    top5url = []\n",
    "    for i in url_elems:\n",
    "        top5url.append(i.get_attribute('href'))   \n",
    "        print(i.get_attribute('href'))\n",
    "        if len(top5url) == 5:\n",
    "            return top5url"
   ]
  },
  {
   "cell_type": "code",
   "execution_count": 35,
   "id": "ae17ca75",
   "metadata": {},
   "outputs": [
    {
     "name": "stdout",
     "output_type": "stream",
     "text": [
      "https://www.youtube.com/watch?v=PI1obes98Zc\n",
      "https://www.youtube.com/watch?v=16fUsD0M1-I\n",
      "https://www.youtube.com/watch?v=S0RySN5arvk\n",
      "https://www.youtube.com/watch?v=HzBhwxMrt8A\n",
      "https://www.youtube.com/watch?v=60_B3haKADw\n"
     ]
    },
    {
     "data": {
      "text/plain": [
       "['https://www.youtube.com/watch?v=PI1obes98Zc',\n",
       " 'https://www.youtube.com/watch?v=16fUsD0M1-I',\n",
       " 'https://www.youtube.com/watch?v=S0RySN5arvk',\n",
       " 'https://www.youtube.com/watch?v=HzBhwxMrt8A',\n",
       " 'https://www.youtube.com/watch?v=60_B3haKADw']"
      ]
     },
     "execution_count": 35,
     "metadata": {},
     "output_type": "execute_result"
    }
   ],
   "source": [
    "url = \"https://www.youtube.com/@PW-Foundation/videos\"\n",
    "top5url = get_top5_urls(url)\n",
    "top5url"
   ]
  },
  {
   "cell_type": "markdown",
   "id": "bd2ff93b",
   "metadata": {},
   "source": [
    "# __Ques 2__"
   ]
  },
  {
   "cell_type": "code",
   "execution_count": 40,
   "id": "e61c5ef7",
   "metadata": {},
   "outputs": [],
   "source": [
    "def thumbnail(url):  \n",
    "    images = driver.find_elements(By.TAG_NAME,'img')\n",
    "    img_links = []\n",
    "    for i in images:    \n",
    "        link = i.get_attribute('src')\n",
    "        if str(link).find('i.ytimg.com')>0:\n",
    "            img_links.append(link)    \n",
    "    return img_links[0:5]"
   ]
  },
  {
   "cell_type": "code",
   "execution_count": 42,
   "id": "eca283bd",
   "metadata": {},
   "outputs": [
    {
     "data": {
      "text/plain": [
       "['https://i.ytimg.com/vi/PI1obes98Zc/hqdefault.jpg?sqp=-oaymwEcCNACELwBSFXyq4qpAw4IARUAAIhCGAFwAcABBg==&rs=AOn4CLDyWGBtPVQCXcUM1DiCpOeszoKAsQ',\n",
       " 'https://i.ytimg.com/vi/16fUsD0M1-I/hqdefault.jpg?sqp=-oaymwEcCNACELwBSFXyq4qpAw4IARUAAIhCGAFwAcABBg==&rs=AOn4CLByRUwFQYHPXlsq0XinNUla0MZtNw',\n",
       " 'https://i.ytimg.com/vi/S0RySN5arvk/hqdefault.jpg?sqp=-oaymwEcCNACELwBSFXyq4qpAw4IARUAAIhCGAFwAcABBg==&rs=AOn4CLBOhnoOmjXFZyCKcKSm5Q-ZERlrZQ',\n",
       " 'https://i.ytimg.com/vi/HzBhwxMrt8A/hqdefault.jpg?sqp=-oaymwEcCNACELwBSFXyq4qpAw4IARUAAIhCGAFwAcABBg==&rs=AOn4CLDxv8xtxXYKf6Zn58zMFt2mqVTTZw',\n",
       " 'https://i.ytimg.com/vi/60_B3haKADw/hqdefault.jpg?sqp=-oaymwEcCNACELwBSFXyq4qpAw4IARUAAIhCGAFwAcABBg==&rs=AOn4CLA9baY1YtDSZafi5-Ej4K4ehDrL_A']"
      ]
     },
     "execution_count": 42,
     "metadata": {},
     "output_type": "execute_result"
    }
   ],
   "source": [
    "top5thumbnail = thumbnail(url)\n",
    "top5thumbnail"
   ]
  },
  {
   "cell_type": "markdown",
   "id": "5c7d4900",
   "metadata": {},
   "source": [
    "# __Ques 3__"
   ]
  },
  {
   "cell_type": "code",
   "execution_count": 43,
   "id": "14d1704b",
   "metadata": {},
   "outputs": [],
   "source": [
    "def title(url):\n",
    "    driver.get(url)\n",
    "    t.sleep(4)\n",
    "    title = driver.find_elements(By.XPATH , \"//a[@id='video-title-link']\")\n",
    "    titles = []\n",
    "    count = 0\n",
    "    for i in title:\n",
    "        a = i.get_attribute('title')\n",
    "        titles.append(a)\n",
    "        count += 1\n",
    "        if count == 5:\n",
    "            return titles"
   ]
  },
  {
   "cell_type": "code",
   "execution_count": 44,
   "id": "bcdc9750",
   "metadata": {},
   "outputs": [
    {
     "data": {
      "text/plain": [
       "['How to score 95%+ in class 10th? Complete year Powerful Strategy!!',\n",
       " 'Last 4 Days Left For SST Exam || How To Manage to Score 80/80 in Boards || Class-10th',\n",
       " 'Benefits of Choosing Commerce After 10th | Commerce क्यों लेना चाहिए? | CBSE | ICSE | State Boards',\n",
       " 'Complete 𝗖𝗔𝗥𝗕𝗢𝗡 𝗔𝗡𝗗 𝗜𝗧𝗦 𝗖𝗢𝗠𝗣𝗢𝗨𝗡𝗗𝗦 in 90 Minutes | Class 10th Board Exam',\n",
       " 'Complete 𝗠𝗘𝗧𝗔𝗟𝗦 & 𝗡𝗢𝗡 𝗠𝗘𝗧𝗔𝗟𝗦  in 120 Minutes | Class 10th Board Exam']"
      ]
     },
     "execution_count": 44,
     "metadata": {},
     "output_type": "execute_result"
    }
   ],
   "source": [
    "top5titles = title(url)\n",
    "top5titles"
   ]
  },
  {
   "cell_type": "markdown",
   "id": "f5a93823",
   "metadata": {},
   "source": [
    "# __Ques 4__"
   ]
  },
  {
   "cell_type": "code",
   "execution_count": 45,
   "id": "15432cc3",
   "metadata": {},
   "outputs": [],
   "source": [
    "def views(url):\n",
    "    driver.get(url)\n",
    "    t.sleep(4)\n",
    "    views = driver.find_elements(By.XPATH , \"//span[@class='inline-metadata-item style-scope ytd-video-meta-block']\")\n",
    "    views_value = []\n",
    "    for i in views:\n",
    "        a = i.text\n",
    "        if str(a).find('views') != -1:\n",
    "            views_value.append(a)\n",
    "            if len(views_value) == 5:\n",
    "                return views_value"
   ]
  },
  {
   "cell_type": "code",
   "execution_count": 46,
   "id": "aeb36ba2",
   "metadata": {},
   "outputs": [
    {
     "data": {
      "text/plain": [
       "['141K views', '67K views', '27K views', '41K views', '22K views']"
      ]
     },
     "execution_count": 46,
     "metadata": {},
     "output_type": "execute_result"
    }
   ],
   "source": [
    "top5views = views(url)\n",
    "top5views"
   ]
  },
  {
   "cell_type": "markdown",
   "id": "853439cf",
   "metadata": {},
   "source": [
    "# __Ques 5__"
   ]
  },
  {
   "cell_type": "code",
   "execution_count": 47,
   "id": "f126cca2",
   "metadata": {},
   "outputs": [],
   "source": [
    "def upload(url):\n",
    "    driver.get(url)\n",
    "    t.sleep(4)\n",
    "    uploads = driver.find_elements(By.XPATH , \"//span[@class='inline-metadata-item style-scope ytd-video-meta-block']\")\n",
    "    upload_value = []\n",
    "    for i in uploads:\n",
    "        a = i.text\n",
    "        if str(a).find('views') == -1:\n",
    "            upload_value.append(a)\n",
    "            if len(upload_value) == 5:\n",
    "                return upload_value"
   ]
  },
  {
   "cell_type": "code",
   "execution_count": 58,
   "id": "314bfe7f",
   "metadata": {},
   "outputs": [
    {
     "data": {
      "text/plain": [
       "['7 days ago', '7 days ago', '11 days ago', '2 weeks ago', '2 weeks ago']"
      ]
     },
     "execution_count": 58,
     "metadata": {},
     "output_type": "execute_result"
    }
   ],
   "source": [
    "top5uploadtime = upload(url)\n",
    "top5uploadtime"
   ]
  },
  {
   "cell_type": "code",
   "execution_count": 61,
   "id": "6fd606b8",
   "metadata": {},
   "outputs": [],
   "source": [
    "from datetime import datetime\n",
    "from datetime import timedelta\n",
    "\n",
    "def find_days(a):\n",
    "    n = -1\n",
    "    current_time = datetime.now()\n",
    "    if a.find('minute') != -1:\n",
    "        n = a.find('minute')-1\n",
    "        b = a[:n]\n",
    "        n = int(b)\n",
    "    elif a.find('hour') != -1:\n",
    "        n = a.find('hour')-1\n",
    "        b = a[:n]\n",
    "        n = int(b) * 60\n",
    "    elif a.find('day') != -1:\n",
    "        n = a.find('day')-1\n",
    "        b = a[:n]\n",
    "        n = int(b) * 24 * 60\n",
    "    elif a.find('week') != -1:\n",
    "        n = a.find('week')-1\n",
    "        b = a[:n]\n",
    "        n = int(b) * 7 * 24 * 60\n",
    "    elif a.find('year') != -1:\n",
    "        n = a.find('year') * 365 * 34 * 60\n",
    "    date = current_time - timedelta(minutes=n)\n",
    "    return date.strftime('%d-%m-%Y')"
   ]
  },
  {
   "cell_type": "code",
   "execution_count": 62,
   "id": "5fe6298e",
   "metadata": {},
   "outputs": [],
   "source": [
    "top5uploadtime = list(map(find_days , top5uploadtime))"
   ]
  },
  {
   "cell_type": "code",
   "execution_count": 63,
   "id": "425f3617",
   "metadata": {},
   "outputs": [
    {
     "data": {
      "text/plain": [
       "['10-03-2023', '10-03-2023', '06-03-2023', '03-03-2023', '03-03-2023']"
      ]
     },
     "execution_count": 63,
     "metadata": {},
     "output_type": "execute_result"
    }
   ],
   "source": [
    "top5uploadtime"
   ]
  },
  {
   "cell_type": "markdown",
   "id": "706b67a7",
   "metadata": {},
   "source": [
    "# __Creating and writing data into a csv file__"
   ]
  },
  {
   "cell_type": "code",
   "execution_count": 64,
   "id": "a5fa730c",
   "metadata": {},
   "outputs": [],
   "source": [
    "import pandas as pd\n",
    "\n",
    "data = {\n",
    "    'Video Thumbnai' : top5thumbnail,\n",
    "    'Video Title' : top5titles,\n",
    "    'Video Views' : top5views,\n",
    "    'Video Upload Date' : top5uploadtime,\n",
    "    'Video Link' : top5url\n",
    "}\n",
    "\n",
    "df = pd.DataFrame(data)\n",
    "df.to_csv('youtube.csv')"
   ]
  },
  {
   "cell_type": "code",
   "execution_count": 65,
   "id": "14aef548",
   "metadata": {},
   "outputs": [
    {
     "data": {
      "text/html": [
       "<div>\n",
       "<style scoped>\n",
       "    .dataframe tbody tr th:only-of-type {\n",
       "        vertical-align: middle;\n",
       "    }\n",
       "\n",
       "    .dataframe tbody tr th {\n",
       "        vertical-align: top;\n",
       "    }\n",
       "\n",
       "    .dataframe thead th {\n",
       "        text-align: right;\n",
       "    }\n",
       "</style>\n",
       "<table border=\"1\" class=\"dataframe\">\n",
       "  <thead>\n",
       "    <tr style=\"text-align: right;\">\n",
       "      <th></th>\n",
       "      <th>Video Thumbnai</th>\n",
       "      <th>Video Title</th>\n",
       "      <th>Video Views</th>\n",
       "      <th>Video Upload Date</th>\n",
       "      <th>Video Link</th>\n",
       "    </tr>\n",
       "  </thead>\n",
       "  <tbody>\n",
       "    <tr>\n",
       "      <th>0</th>\n",
       "      <td>https://i.ytimg.com/vi/PI1obes98Zc/hqdefault.j...</td>\n",
       "      <td>How to score 95%+ in class 10th? Complete year...</td>\n",
       "      <td>141K views</td>\n",
       "      <td>10-03-2023</td>\n",
       "      <td>https://www.youtube.com/watch?v=PI1obes98Zc</td>\n",
       "    </tr>\n",
       "    <tr>\n",
       "      <th>1</th>\n",
       "      <td>https://i.ytimg.com/vi/16fUsD0M1-I/hqdefault.j...</td>\n",
       "      <td>Last 4 Days Left For SST Exam || How To Manage...</td>\n",
       "      <td>67K views</td>\n",
       "      <td>10-03-2023</td>\n",
       "      <td>https://www.youtube.com/watch?v=16fUsD0M1-I</td>\n",
       "    </tr>\n",
       "    <tr>\n",
       "      <th>2</th>\n",
       "      <td>https://i.ytimg.com/vi/S0RySN5arvk/hqdefault.j...</td>\n",
       "      <td>Benefits of Choosing Commerce After 10th | Com...</td>\n",
       "      <td>27K views</td>\n",
       "      <td>06-03-2023</td>\n",
       "      <td>https://www.youtube.com/watch?v=S0RySN5arvk</td>\n",
       "    </tr>\n",
       "    <tr>\n",
       "      <th>3</th>\n",
       "      <td>https://i.ytimg.com/vi/HzBhwxMrt8A/hqdefault.j...</td>\n",
       "      <td>Complete 𝗖𝗔𝗥𝗕𝗢𝗡 𝗔𝗡𝗗 𝗜𝗧𝗦 𝗖𝗢𝗠𝗣𝗢𝗨𝗡𝗗𝗦 in 90 Minute...</td>\n",
       "      <td>41K views</td>\n",
       "      <td>03-03-2023</td>\n",
       "      <td>https://www.youtube.com/watch?v=HzBhwxMrt8A</td>\n",
       "    </tr>\n",
       "    <tr>\n",
       "      <th>4</th>\n",
       "      <td>https://i.ytimg.com/vi/60_B3haKADw/hqdefault.j...</td>\n",
       "      <td>Complete 𝗠𝗘𝗧𝗔𝗟𝗦 &amp; 𝗡𝗢𝗡 𝗠𝗘𝗧𝗔𝗟𝗦  in 120 Minutes |...</td>\n",
       "      <td>22K views</td>\n",
       "      <td>03-03-2023</td>\n",
       "      <td>https://www.youtube.com/watch?v=60_B3haKADw</td>\n",
       "    </tr>\n",
       "  </tbody>\n",
       "</table>\n",
       "</div>"
      ],
      "text/plain": [
       "                                      Video Thumbnai  ...                                   Video Link\n",
       "0  https://i.ytimg.com/vi/PI1obes98Zc/hqdefault.j...  ...  https://www.youtube.com/watch?v=PI1obes98Zc\n",
       "1  https://i.ytimg.com/vi/16fUsD0M1-I/hqdefault.j...  ...  https://www.youtube.com/watch?v=16fUsD0M1-I\n",
       "2  https://i.ytimg.com/vi/S0RySN5arvk/hqdefault.j...  ...  https://www.youtube.com/watch?v=S0RySN5arvk\n",
       "3  https://i.ytimg.com/vi/HzBhwxMrt8A/hqdefault.j...  ...  https://www.youtube.com/watch?v=HzBhwxMrt8A\n",
       "4  https://i.ytimg.com/vi/60_B3haKADw/hqdefault.j...  ...  https://www.youtube.com/watch?v=60_B3haKADw\n",
       "\n",
       "[5 rows x 5 columns]"
      ]
     },
     "execution_count": 65,
     "metadata": {},
     "output_type": "execute_result"
    }
   ],
   "source": [
    "df"
   ]
  },
  {
   "cell_type": "code",
   "execution_count": null,
   "id": "12125ad9",
   "metadata": {},
   "outputs": [],
   "source": []
  }
 ],
 "metadata": {
  "kernelspec": {
   "display_name": "Python 3 (ipykernel)",
   "language": "python",
   "name": "python3"
  },
  "language_info": {
   "codemirror_mode": {
    "name": "ipython",
    "version": 3
   },
   "file_extension": ".py",
   "mimetype": "text/x-python",
   "name": "python",
   "nbconvert_exporter": "python",
   "pygments_lexer": "ipython3",
   "version": "3.9.12"
  }
 },
 "nbformat": 4,
 "nbformat_minor": 5
}
